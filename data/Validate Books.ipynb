{
 "cells": [
  {
   "cell_type": "code",
   "execution_count": 28,
   "metadata": {},
   "outputs": [],
   "source": [
    "import csv\n",
    "import requests"
   ]
  },
  {
   "cell_type": "code",
   "execution_count": 29,
   "metadata": {},
   "outputs": [],
   "source": [
    "# Book schema\n",
    "# ISBN-13 no dashes\n",
    "# Title\n",
    "# Author(s)\n",
    "# Publisher\n",
    "# Publish year\n",
    "# Dewey decimal\n",
    "# Categories\n",
    "\n",
    "cols = [\n",
    "    \"isbn\",\n",
    "    \"title\",\n",
    "    \"author\",\n",
    "    \"publisher\",\n",
    "    \"year_published\",\n",
    "    \"dewey_decimal\",\n",
    "    \"lcc_number\",\n",
    "    \"subjects\"\n",
    "]"
   ]
  },
  {
   "cell_type": "code",
   "execution_count": 30,
   "metadata": {},
   "outputs": [],
   "source": [
    "def to_f(n_str):\n",
    "    try:\n",
    "        return float(n_str)\n",
    "    except ValueError:\n",
    "        return 0\n",
    "    \n",
    "def choose_ddc(book, record):\n",
    "    if not record.get('dewey_normal'):\n",
    "        return book['dewey_decimal']\n",
    "    if str(record['dewey_normal']) == \"0\":\n",
    "        return book['dewey_decimal']\n",
    "    book_d = to_f(book['dewey_decimal'])\n",
    "    record_d = to_f(record['dewey_normal'])\n",
    "    if book_d > record_d:\n",
    "        return str(book_d)\n",
    "    \n",
    "    return str(record_d)"
   ]
  },
  {
   "cell_type": "code",
   "execution_count": 32,
   "metadata": {},
   "outputs": [
    {
     "name": "stdout",
     "output_type": "stream",
     "text": [
      "{\n",
      "   \"error\" : \"Unable to locate 1482203537\"\n",
      "}\n",
      "\n",
      "{\n",
      "   \"error\" : \"Unable to locate 0813816173\"\n",
      "}\n",
      "\n",
      "{\n",
      "   \"error\" : \"Unable to locate 1599943409\"\n",
      "}\n",
      "\n",
      "{\n",
      "   \"error\" : \"Unable to locate 1439849633\"\n",
      "}\n",
      "\n",
      "{\n",
      "   \"error\" : \"Unable to locate 325721538X\"\n",
      "}\n",
      "\n",
      "{\n",
      "   \"error\" : \"Unable to locate 037303444X\"\n",
      "}\n",
      "\n"
     ]
    }
   ],
   "source": [
    "books = []\n",
    "n = 0\n",
    "with open(\"books.csv\") as csvfile:\n",
    "    reader = csv.DictReader(csvfile)\n",
    "    for book in reader:\n",
    "        n += 1\n",
    "        r = requests.get(\"http://isbndb.com/api/v2/json/UA15OA8O/book/\" + book['isbn'])\n",
    "        if r.status_code == 200:\n",
    "            try:\n",
    "                record = r.json()['data'][0]\n",
    "            except KeyError:\n",
    "                print(r.text)\n",
    "                record = {}\n",
    "                continue\n",
    "            if record.get(\"title\"):\n",
    "                book[\"title\"] = record[\"title\"]\n",
    "            if record.get('publisher_name'):\n",
    "                book['publisher'] = record['publisher_name']\n",
    "            if record.get('author_data'):\n",
    "                book['author'] = \"|\".join(author['name'] for author in record['author_data'])\n",
    "            book['dewey_decimal'] = choose_ddc(book, record)\n",
    "            book['lcc_number'] = record['lcc_number']\n",
    "            book['subjects'] = \"|\".join(record['subject_ids'])\n",
    "        else:\n",
    "            print(r.status_code, r.text)\n",
    "        books.append(book)"
   ]
  },
  {
   "cell_type": "code",
   "execution_count": 33,
   "metadata": {},
   "outputs": [
    {
     "data": {
      "text/plain": [
       "402"
      ]
     },
     "execution_count": 33,
     "metadata": {},
     "output_type": "execute_result"
    }
   ],
   "source": [
    "len(books)"
   ]
  },
  {
   "cell_type": "code",
   "execution_count": 34,
   "metadata": {
    "scrolled": true
   },
   "outputs": [],
   "source": [
    "with open(\"verified.csv\", \"w\", encoding=\"UTF-8\") as csvout:\n",
    "    writer = csv.DictWriter(csvout, fieldnames=cols, delimiter=\"\\t\")\n",
    "    writer.writeheader()\n",
    "    for book in books:\n",
    "        writer.writerow(book)"
   ]
  },
  {
   "cell_type": "code",
   "execution_count": null,
   "metadata": {},
   "outputs": [],
   "source": []
  }
 ],
 "metadata": {
  "kernelspec": {
   "display_name": "Python 3",
   "language": "python",
   "name": "python3"
  },
  "language_info": {
   "codemirror_mode": {
    "name": "ipython",
    "version": 3
   },
   "file_extension": ".py",
   "mimetype": "text/x-python",
   "name": "python",
   "nbconvert_exporter": "python",
   "pygments_lexer": "ipython3",
   "version": "3.5.3"
  }
 },
 "nbformat": 4,
 "nbformat_minor": 2
}
